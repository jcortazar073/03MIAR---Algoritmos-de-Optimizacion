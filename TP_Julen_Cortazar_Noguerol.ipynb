{
  "cells": [
    {
      "cell_type": "markdown",
      "metadata": {
        "id": "hVbXYX-RfPWh"
      },
      "source": [
        "# Algoritmos de optimización - Trabajo práctico<br>\n",
        "Nombre y Apellidos: Julen Cortázar Noguerol<br>\n",
        "Url: https://github.com/jcortazar073/03MIAR---Algoritmos-de-Optimizacion/blob/main/TP_Julen_Cortazar_Noguerol.ipynb<br>\n",
        "Problema: 3. Combinar cifras y operaciones\n",
        "\n",
        "Descripción del problema:\n",
        "\n",
        "La actividad consiste en analizar el siguiente problema y diseñar un algoritmo que lo resuelva.\n",
        "- Disponemos de las 9 cifras del 1 al 9 (excluimos el cero) y de los 4 signos básicos de las\n",
        "operaciones fundamentales: suma(+), resta(-), multiplicación(*) y división(/)\n",
        "- Debemos combinarlos alternativamente sin repetir ninguno de ellos para obtener una cantidad\n",
        "dada. Un ejemplo sería para obtener el 4:\n",
        "\n",
        "$4+2-6/3*1=4$\n",
        "\n",
        "Debe analizarse el problema para encontrar todos los valores enteros posibles planteando las siguientes cuestiones:\n",
        "- ¿Qué valor máximo y mínimo se pueden obtener según las condiciones del problema?\n",
        "- ¿Es posible encontrar todos los valores enteros posibles entre dicho mínimo y máximo?"
      ]
    },
    {
      "cell_type": "markdown",
      "metadata": {
        "id": "L4835Ncui4Nx"
      },
      "source": [
        "----------"
      ]
    },
    {
      "cell_type": "markdown",
      "metadata": {
        "id": "hIVCpNGei4Ny"
      },
      "source": [
        "En primera instancia conviene definir listas con los elementos disponibles. Dado que no se permite repetición, puede ser útil emplear el método 'pop()' de Python para eliminar los elementos ya usados, ya que su complejidad computacional es O(1). Definimos por tanto las listas:"
      ]
    },
    {
      "cell_type": "code",
      "execution_count": 2,
      "metadata": {
        "id": "AiskKkzZfy4e"
      },
      "outputs": [],
      "source": [
        "cifras = [str(x) for x in range(1,10)]      # Definimos la lista de dígitos del 1 al 9\n",
        "operadores = ['+', '-', '/', '*']           # Definimos la lista de operadores disponibles"
      ]
    },
    {
      "cell_type": "markdown",
      "metadata": {
        "id": "3_-exlrTgLd-"
      },
      "source": [
        "**1. ¿Cuántas posibilidades hay teniendo en cuenta todas las restricciones?**"
      ]
    },
    {
      "cell_type": "markdown",
      "metadata": {
        "id": "WfCUqJyKhPcw"
      },
      "source": [
        "Teniendo en cuenta todas las restricciones, puede calcularse el número de posibilidades como el producto de las permutaciones sin repetición de las 9 cifras en los 5 posibles 'huecos' para cada una, por las permutaciones sin repetición de los cuatro operadores en las cuatro posibles posiciones. Si llamamos $N$ al número total de posibilidades:\n",
        "\n",
        "$N = [9!/(9-5)!]*4! = 362880$\n",
        "\n",
        "Esto significa que se pueden obtener un total de 362880 expresiones diferentes, pero no necesariamente que se vayan a obtener resultados diferentes en cada una de las expresiones.\n",
        "\n",
        "Pero esta cantidad de posibilidades puede reducirse de forma considerable teniendo en cuenta la jerarquía de operaciones y la propiedad conmutativa de la suma, resta y multiplicación. En este sentido, la operación más restrictiva es la división. Si nos limitamos a resultados enteros, la división sólo puede situarse entre numeros divisibles, es decir:\n",
        "\n",
        "- 8 combinaciones posibles dividiendo entre 1.\n",
        "- 3 combinaciones posibles dividiendo entre 2.\n",
        "- 2 combinaciones posibles dividiendo entre 3.\n",
        "- 1 combinación posible dividiendo entre 4.\n",
        "\n",
        "Lo que da un total de 14 combinaciones posibles para el operador división. A partir de aquí, tendríamos la permutación sin repetición de 8 números en 4 posiciones, siendo uno de los números el resultado de la división, y la permutación sin repetición de 3 operadores en 3 posiciones, todo ello multiplicado por las 15 combinaciones posibles del operador división. De esta forma:\n",
        "\n",
        "$N = [8!/(8-4)!]*3!*14 = 141120$\n",
        "\n",
        "Lo que reduce el cálculo a menos de la mitad de posibilidades. Se podría argumentar que con este enfoque se pierde generalidad, ya que, por ejemplo, $1/2*4$ da un resultado entero. Sin embargo, aprovechando la propiedad conmutativa del producto, se puede demostrar que el resultado de esa operación ya está contemplada en el cálculo anterior. Suponiendo tres enteros $a$, $b$ y $c$ tal que $c = n*b$ siendo $n$ un número entero también, aprovechando la propiedad conmutativa:\n",
        "\n",
        "$a/b*c = a/b*n*b = n*a =n*b/b*a = c/b*a$\n",
        "\n",
        "Por tanto queda demostrado que el segundo cálculo de posibilidades abarca cualquier resultado entero posible."
      ]
    },
    {
      "cell_type": "code",
      "execution_count": 3,
      "metadata": {
        "colab": {
          "base_uri": "https://localhost:8080/"
        },
        "id": "iq6Fe32MgpDX",
        "outputId": "abbc1ff0-820d-462f-d06a-04506d8e5f59"
      },
      "outputs": [
        {
          "name": "stdout",
          "output_type": "stream",
          "text": [
            "N1 = 362880\n",
            "N2 = 141120\n"
          ]
        }
      ],
      "source": [
        "import numpy as np\n",
        "\n",
        "N1 = (np.math.factorial(4)*np.math.factorial(9))/np.math.factorial(9-5)\n",
        "\n",
        "N2 = (14*np.math.factorial(3)*np.math.factorial(8))/np.math.factorial(8-4)\n",
        "\n",
        "print(f'N1 = {int(N1)}\\nN2 = {int(N2)}')"
      ]
    },
    {
      "cell_type": "markdown",
      "metadata": {
        "id": "ZPtXixhVi4N9"
      },
      "source": [
        "---"
      ]
    },
    {
      "cell_type": "markdown",
      "metadata": {
        "id": "dzynfVJahHoY"
      },
      "source": [
        "**2. Modelo para el espacio de soluciones.**\n",
        "**¿Cuál es la estructura de datos que mejor se adapta al problema? Arguméntalo.**\n"
      ]
    },
    {
      "cell_type": "markdown",
      "metadata": {
        "id": "xFIJrOwKi2Ti"
      },
      "source": [
        "En el caso del problema propuesto la estructura de datos más representativa y completa sería un diccionario. Dado que las expresiones a evaluar son únicas, podrían utilizarse de clave, siendo el valor asociado a la clave el resultado de la operación. Por otro lado, la evaluación de las expresiones es inmediata, por lo que una lista de todas las expresiones a evaluar sería suficiente.\n",
        "\n",
        "En el siguiente código se muestra un ejemplo de ambas configuraciones:"
      ]
    },
    {
      "cell_type": "code",
      "execution_count": 4,
      "metadata": {
        "id": "38c-7-ejhJmA",
        "outputId": "55f835e4-cb6e-4523-d8d2-b41ee041d659"
      },
      "outputs": [
        {
          "name": "stdout",
          "output_type": "stream",
          "text": [
            "Diccionario de soluciones: {'2+3-8/4*5': -5.0, '2-3+8/4*5': 9.0}\n",
            "\n",
            "Lista de expresiones: ['2+3-8/4*5', '2-3+8/4*5']\n",
            "Lista de soluciones: [-5.0, 9.0]\n"
          ]
        }
      ],
      "source": [
        "sol_dict = {'2+3-8/4*5': eval('2+3-8/4*5'), '2-3+8/4*5': eval('2-3+8/4*5')}     # Posible representación del espacio de soluciones con diccionarios\n",
        "sol_list = ['2+3-8/4*5', '2-3+8/4*5']                                           # Posible representación del espacio de soluciones con listas\n",
        "\n",
        "print(f'Diccionario de soluciones: {sol_dict}\\n')\n",
        "print(f'Lista de expresiones: {sol_list}\\n' +\n",
        "      f'Lista de soluciones: {[eval(x) for x in sol_list]}')"
      ]
    },
    {
      "cell_type": "markdown",
      "metadata": {
        "id": "DIBAbMebi4OB"
      },
      "source": [
        "----------"
      ]
    },
    {
      "cell_type": "markdown",
      "metadata": {
        "id": "7Z9U2W7bi-XS"
      },
      "source": [
        "**Según el modelo para el espacio de soluciones:**<br>\n",
        "- **¿Cual es la función objetivo?**\n",
        "- **¿Es un problema de maximización o minimización?**"
      ]
    },
    {
      "cell_type": "markdown",
      "metadata": {
        "id": "hBalWLM7j1_d"
      },
      "source": [
        "Este problema no tiene una función objetivo como tal. Siendo rigurosos, podríamos tomar la propia definición del problema como función objetivo:\n",
        "\n",
        "$f(a,b,c,d,e,\\alpha, \\beta, \\gamma, \\delta) = a(\\alpha)b(\\beta)c(\\gamma)d(\\delta)e$,<br> \n",
        "**tal que**  $a,b,c,d,e \\in [1,9]$  **con**  $a\\neq b\\neq c\\neq d\\neq e$  **y**  $\\alpha, \\beta, \\gamma, \\delta\\in [+,-,/,*]$  **con**  $\\alpha\\neq\\beta\\neq\\gamma\\neq\\delta$.\n",
        "\n",
        "En cuanto a máximización o minimización, en este problema se pide buscar tanto el mínimo como el máximo de la función descrita."
      ]
    },
    {
      "cell_type": "markdown",
      "metadata": {
        "id": "u3ZOnO4Oi4OD"
      },
      "source": [
        "-----------"
      ]
    },
    {
      "cell_type": "markdown",
      "metadata": {
        "id": "rlnTYgY1j6I2"
      },
      "source": [
        "**Resolución del problema por fuerza bruta**"
      ]
    },
    {
      "cell_type": "markdown",
      "metadata": {
        "id": "70rDgxYXkC8r"
      },
      "source": [
        "Para resolver el problema por fuerza bruta, se pueden calcular todas las permutaciones posibles de números y símbolos, evaluar las expresiones, y buscar el mínimo y el máximo. Para ello se va a utilizar la función `permutations` de la librería `itertools`:\n",
        "\n"
      ]
    },
    {
      "cell_type": "code",
      "execution_count": 5,
      "metadata": {
        "colab": {
          "base_uri": "https://localhost:8080/"
        },
        "id": "UGbXH8iphauP",
        "outputId": "c9c6af6a-f558-405d-a03d-96c737709f25"
      },
      "outputs": [
        {
          "name": "stdout",
          "output_type": "stream",
          "text": [
            "Se han encontrado un total de 362880 expresiones posibles sin aplicar ninguna restricción,\n",
            "El resultado máximo de estas expresiones es 77 y el mínimo -69, con un total de 147 resultados únicos.\n"
          ]
        }
      ],
      "source": [
        "from itertools import permutations\n",
        "import numpy as np\n",
        "\n",
        "cifras = [str(x) for x in range(1,10)]      # Definimos la lista de dígitos del 1 al 9\n",
        "operadores = ['+', '-', '/', '*']           # Definimos la lista de operadores disponibles\n",
        "\n",
        "# Construimos las permutaciones de ambos conjuntos de datos\n",
        "cifras_perm = list(permutations(cifras, len(operadores)+1))\n",
        "operadores_perm = list(permutations(operadores))\n",
        "\n",
        "sol_dict = {} # Declaramos el espacio de soluciones\n",
        "\n",
        "# Combinamos ambos conjuntos de datos\n",
        "for set_cifras in cifras_perm:\n",
        "  for set_operadores in operadores_perm:\n",
        "    expresion =''\n",
        "    cifras_lst = list(set_cifras)\n",
        "    operadores_lst = list(set_operadores)\n",
        "    while len(operadores_lst) > 0:\n",
        "      expresion += cifras_lst.pop() + operadores_lst.pop()\n",
        "\n",
        "    expresion+=cifras_lst.pop()\n",
        "    sol_dict[eval(expresion)] = expresion\n",
        "\n",
        "# Análisis de los resultados:\n",
        "total_expresiones_únicas = len(sol_dict)\n",
        "\n",
        "for x in list(sol_dict.keys()):\n",
        "  if not x.is_integer():\n",
        "    sol_dict.pop(x)\n",
        "\n",
        "valores = [int(x) for x in list(sol_dict.keys())]\n",
        "\n",
        "print(f'Se han encontrado un total de {len(cifras_perm)*len(operadores_perm)} expresiones posibles sin aplicar ninguna restricción,\\n'+\n",
        "      f'El resultado máximo de estas expresiones es {max(valores)} y el mínimo {min(valores)}, con un total de {len(valores)} resultados únicos.')"
      ]
    },
    {
      "cell_type": "markdown",
      "metadata": {
        "id": "o5exYxu33HDG"
      },
      "source": [
        "Podemos encapsular el código anterior en una función, generalizada para cualquier set de operadores y cifras, que devuelva una combinación de dígitos y elementos para un resultado dado:"
      ]
    },
    {
      "cell_type": "code",
      "execution_count": 6,
      "metadata": {
        "id": "mk9V74Ah3GoT"
      },
      "outputs": [],
      "source": [
        "def permutacion_operaciones_fuerza_bruta(cifras, operadores, resultado, sol_dict_input = None):\n",
        "  from itertools import permutations\n",
        "  # Bloque de código para ahorrar tiempo en búsquedas con el mismo set de\n",
        "  # cifras y operaciones.\n",
        "  if sol_dict_input !=None:\n",
        "    try:\n",
        "      return sol_dict_input[resultado]\n",
        "    except:\n",
        "      print('Resultado no encontrado en el set de soluciones proporcionado')\n",
        "      return\n",
        "\n",
        "  cifras_perm = list(permutations(cifras, len(operadores)+1))\n",
        "  operadores_perm = list(permutations(operadores))\n",
        "  \n",
        "  sol_dict = {} # Declaramos el espacio de soluciones\n",
        "\n",
        "  # Combinamos ambos conjuntos de datos\n",
        "  for set_cifras in cifras_perm:\n",
        "    for set_operadores in operadores_perm:\n",
        "      expresion =''\n",
        "      cifras_lst = list(set_cifras)\n",
        "      operadores_lst = list(set_operadores)\n",
        "      while len(operadores_lst) > 0:\n",
        "        expresion += cifras_lst.pop() + operadores_lst.pop()\n",
        "\n",
        "      expresion+=cifras_lst.pop()\n",
        "      x = eval(expresion)\n",
        "      if x.is_integer():\n",
        "        sol_dict[int(x)] = expresion\n",
        "\n",
        "  try:\n",
        "    return sol_dict[resultado], sol_dict\n",
        "  except:\n",
        "    print('No se ha encontrado el resultado')\n",
        "    return '', sol_dict"
      ]
    },
    {
      "cell_type": "markdown",
      "metadata": {
        "id": "3EEfnqCg7lhm"
      },
      "source": [
        "Pruebas de uso:"
      ]
    },
    {
      "cell_type": "code",
      "execution_count": 7,
      "metadata": {
        "id": "RR6QwpBr7oKi"
      },
      "outputs": [
        {
          "name": "stdout",
          "output_type": "stream",
          "text": [
            "2/4*6-8+9 = 4\n",
            "\n",
            "1+6/3-8*9 = -69\n",
            "\n",
            "2+6/3-8*9 = -68\n",
            "\n",
            "4/2+3-8*9 = -67\n",
            "\n",
            "6/3+4-8*9 = -66\n",
            "\n",
            "6/3+5-8*9 = -65\n",
            "\n",
            "4/2+6-8*9 = -64\n",
            "\n",
            "6/3+7-8*9 = -63\n",
            "\n",
            "6/2+7-8*9 = -62\n",
            "\n",
            "4/1+7-8*9 = -61\n",
            "\n",
            "5/1+7-8*9 = -60\n",
            "\n",
            "6/1+7-8*9 = -59\n",
            "\n",
            "3+8/4-7*9 = -58\n",
            "\n",
            "6/3+4-7*9 = -57\n",
            "\n",
            "8/4+5-7*9 = -56\n",
            "\n",
            "8/4+6-7*9 = -55\n",
            "\n",
            "3/1+6-7*9 = -54\n",
            "\n",
            "6/3+8-7*9 = -53\n",
            "\n",
            "6/2+8-7*9 = -52\n",
            "\n",
            "4/1+8-7*9 = -51\n",
            "\n",
            "5/1+8-7*9 = -50\n",
            "\n",
            "6/1+8-7*9 = -49\n",
            "\n",
            "2/1+4-6*9 = -48\n",
            "\n",
            "8/4+5-6*9 = -47\n",
            "\n",
            "3/1+5-6*9 = -46\n",
            "\n",
            "6/3-7*8+9 = -45\n",
            "\n",
            "6/2-7*8+9 = -44\n",
            "\n",
            "4/1-7*8+9 = -43\n",
            "\n",
            "5/1-7*8+9 = -42\n",
            "\n",
            "6/1-7*8+9 = -41\n",
            "\n",
            "3+8/4-5*9 = -40\n",
            "\n",
            "7/1+8-6*9 = -39\n",
            "\n",
            "6/2+4-5*9 = -38\n",
            "\n",
            "4/2-6*8+9 = -37\n",
            "\n",
            "3/1-6*8+9 = -36\n",
            "\n",
            "4/1-6*8+9 = -35\n",
            "\n",
            "5/1-6*8+9 = -34\n",
            "\n",
            "4/1+8-5*9 = -33\n",
            "\n",
            "7/1-6*8+9 = -32\n",
            "\n",
            "8/4-6*7+9 = -31\n",
            "\n",
            "3/1-6*7+9 = -30\n",
            "\n",
            "6/3-5*8+9 = -29\n",
            "\n",
            "6/2-5*8+9 = -28\n",
            "\n",
            "4/1-5*8+9 = -27\n",
            "\n",
            "6/3+8-4*9 = -26\n",
            "\n",
            "6/1-5*8+9 = -25\n",
            "\n",
            "7/1-5*8+9 = -24\n",
            "\n",
            "6/2-5*7+9 = -23\n",
            "\n",
            "8/2-5*7+9 = -22\n",
            "\n",
            "6/3-4*8+9 = -21\n",
            "\n",
            "6/2-4*8+9 = -20\n",
            "\n",
            "8/4-5*6+9 = -19\n",
            "\n",
            "5/1-4*8+9 = -18\n",
            "\n",
            "6/1-4*8+9 = -17\n",
            "\n",
            "7/1-4*8+9 = -16\n",
            "\n",
            "4-7/2*8+9 = -15\n",
            "\n",
            "5-7/2*8+9 = -14\n",
            "\n",
            "4/2-3*8+9 = -13\n",
            "\n",
            "6/2-3*8+9 = -12\n",
            "\n",
            "4/1-3*8+9 = -11\n",
            "\n",
            "5/1-3*8+9 = -10\n",
            "\n",
            "6/1-3*8+9 = -9\n",
            "\n",
            "7/1-3*8+9 = -8\n",
            "\n",
            "1+2*4/8-9 = -7\n",
            "\n",
            "1-6/3*8+9 = -6\n",
            "\n",
            "1+4*6/8-9 = -5\n",
            "\n",
            "2+4*6/8-9 = -4\n",
            "\n",
            "3+4*6/8-9 = -3\n",
            "\n",
            "3-7/4*8+9 = -2\n",
            "\n",
            "5+4*6/8-9 = -1\n",
            "\n",
            "5+3/6*8-9 = 0\n",
            "\n",
            "7+4*6/8-9 = 1\n",
            "\n",
            "2/4*6+8-9 = 2\n",
            "\n",
            "3*4/6-8+9 = 3\n",
            "\n",
            "2/4*6-8+9 = 4\n",
            "\n",
            "2/3*6-8+9 = 5\n",
            "\n",
            "1-3/6*8+9 = 6\n",
            "\n",
            "1-4*6/8+9 = 7\n",
            "\n",
            "2-4*6/8+9 = 8\n",
            "\n",
            "3-4*6/8+9 = 9\n",
            "\n",
            "5-3/6*8+9 = 10\n",
            "\n",
            "5-4*6/8+9 = 11\n",
            "\n",
            "7-3/6*8+9 = 12\n",
            "\n",
            "6/3*7+8-9 = 13\n",
            "\n",
            "5/2*6+8-9 = 14\n",
            "\n",
            "6/3*7-8+9 = 15\n",
            "\n",
            "5/2*6-8+9 = 16\n",
            "\n",
            "3/1*6+8-9 = 17\n",
            "\n",
            "6/2+3*8-9 = 18\n",
            "\n",
            "3/1*6-8+9 = 19\n",
            "\n",
            "6/2*7+8-9 = 20\n",
            "\n",
            "4/1*5-8+9 = 21\n",
            "\n",
            "6/2*7-8+9 = 22\n",
            "\n",
            "4/1*6+8-9 = 23\n",
            "\n",
            "5+7/2*8-9 = 24\n",
            "\n",
            "4/1*6-8+9 = 25\n",
            "\n",
            "6/2+4*8-9 = 26\n",
            "\n",
            "4/1*7+8-9 = 27\n",
            "\n",
            "5/1+4*8-9 = 28\n",
            "\n",
            "4/1*7-8+9 = 29\n",
            "\n",
            "7/1+4*8-9 = 30\n",
            "\n",
            "5/1*6-8+9 = 31\n",
            "\n",
            "5/1*6-7+9 = 32\n",
            "\n",
            "6/3+5*8-9 = 33\n",
            "\n",
            "5/1*7+8-9 = 34\n",
            "\n",
            "4/1+5*8-9 = 35\n",
            "\n",
            "5/1*7-8+9 = 36\n",
            "\n",
            "6/1+5*8-9 = 37\n",
            "\n",
            "7/1+5*8-9 = 38\n",
            "\n",
            "6/3-8+5*9 = 39\n",
            "\n",
            "6/2-8+5*9 = 40\n",
            "\n",
            "6/1*7+8-9 = 41\n",
            "\n",
            "3/1+6*8-9 = 42\n",
            "\n",
            "6/1*7-8+9 = 43\n",
            "\n",
            "5/1+6*8-9 = 44\n",
            "\n",
            "2-8/4+5*9 = 45\n",
            "\n",
            "7/1+6*8-9 = 46\n",
            "\n",
            "8/1-6+5*9 = 47\n",
            "\n",
            "4/2-8+6*9 = 48\n",
            "\n",
            "6/3+7*8-9 = 49\n",
            "\n",
            "6/2+7*8-9 = 50\n",
            "\n",
            "4/1+7*8-9 = 51\n",
            "\n",
            "5/1+7*8-9 = 52\n",
            "\n",
            "6/1+7*8-9 = 53\n",
            "\n",
            "2-8/4+6*9 = 54\n",
            "\n",
            "8/1-7+6*9 = 55\n",
            "\n",
            "7/1-5+6*9 = 56\n",
            "\n",
            "6/3-8+7*9 = 57\n",
            "\n",
            "6/2-8+7*9 = 58\n",
            "\n",
            "4/1-8+7*9 = 59\n",
            "\n",
            "5/1-8+7*9 = 60\n",
            "\n",
            "6/1-8+7*9 = 61\n",
            "\n",
            "5/1-6+7*9 = 62\n",
            "\n",
            "2-8/4+7*9 = 63\n",
            "\n",
            "6/1-5+7*9 = 64\n",
            "\n",
            "8/1-6+7*9 = 65\n",
            "\n",
            "8/1-5+7*9 = 66\n",
            "\n",
            "6/3-7+8*9 = 67\n",
            "\n",
            "6/2-7+8*9 = 68\n",
            "\n",
            "4/1-7+8*9 = 69\n",
            "\n",
            "5/1-7+8*9 = 70\n",
            "\n",
            "6/1-7+8*9 = 71\n",
            "\n",
            "2-6/3+8*9 = 72\n",
            "\n",
            "7/1-6+8*9 = 73\n",
            "\n",
            "7/1-5+8*9 = 74\n",
            "\n",
            "7/1-4+8*9 = 75\n",
            "\n",
            "7/1-3+8*9 = 76\n",
            "\n",
            "7-6/3+8*9 = 77\n",
            "\n"
          ]
        }
      ],
      "source": [
        "cifras = [str(x) for x in range(1,10)]      # Definimos la lista de dígitos del 1 al 9\n",
        "operadores = ['+', '-', '/', '*']           # Definimos la lista de operadores disponibles\n",
        "\n",
        "[expresion, sol_dict] = permutacion_operaciones_fuerza_bruta(cifras, operadores, 4)\n",
        "print(f'{expresion} = {4}\\n')\n",
        "\n",
        "# Una vez se obtiene el diccionario de soluciones el cálculo es inmediato:\n",
        "for i in range(-69, 78):\n",
        "  expresion = permutacion_operaciones_fuerza_bruta(cifras, operadores, i, sol_dict)\n",
        "  print(f'{expresion} = {i}\\n')"
      ]
    },
    {
      "cell_type": "markdown",
      "metadata": {
        "id": "iwRHk89N9EJW"
      },
      "source": [
        "Por tanto, hemos diseñado un algoritmo por fuerza bruta que calcula todas las permutaciones posibles y las almacena en un diccionario para posteriormente buscar en este diccionario la solución buscada. Este método tiene varias ventajas e inconvenientes. \n",
        "\n",
        "Ventajas:\n",
        "\n",
        "* Sólo es necesario correr el código una vez para cada combinación de operaciones y cifras.\n",
        "\n",
        "* Para conjuntos de datos no demasiado elevados, el coste computacional no es demasiado elevado.\n",
        "\n",
        "Inconvenientes:\n",
        "\n",
        "* Almacena una única solución para cada valor posible, deshechando la mayoría de combinaciones calculadas.\n",
        "\n",
        "* El coste computacional escala con el cuadrado de un factorial, es decir, demasiado rápido.\n"
      ]
    },
    {
      "cell_type": "markdown",
      "metadata": {
        "id": "1487my-xn-48"
      },
      "source": [
        "----"
      ]
    },
    {
      "cell_type": "markdown",
      "metadata": {
        "id": "tgrnsC2nkFa8"
      },
      "source": [
        "**Calcula la complejidad del algoritmo por fuerza bruta**"
      ]
    },
    {
      "cell_type": "markdown",
      "metadata": {
        "id": "9eUd3xwckP68"
      },
      "source": [
        "De la documentación de la librería `itertools` obtenemos el código de la función `permutations` utilizada:\n",
        "\n",
        "```\n",
        "def permutations(iterable, r=None):\n",
        "    # permutations('ABCD', 2) --> AB AC AD BA BC BD CA CB CD DA DB DC\n",
        "    # permutations(range(3)) --> 012 021 102 120 201 210\n",
        "    pool = tuple(iterable)\n",
        "    n = len(pool)\n",
        "    r = n if r is None else r\n",
        "    if r > n:\n",
        "        return\n",
        "    indices = list(range(n))\n",
        "    cycles = list(range(n, n-r, -1))\n",
        "    yield tuple(pool[i] for i in indices[:r])\n",
        "    while n:\n",
        "        for i in reversed(range(r)):\n",
        "            cycles[i] -= 1\n",
        "            if cycles[i] == 0:\n",
        "                indices[i:] = indices[i+1:] + indices[i:i+1]\n",
        "                cycles[i] = n - i\n",
        "            else:\n",
        "                j = cycles[i]\n",
        "                indices[i], indices[-j] = indices[-j], indices[i]\n",
        "                yield tuple(pool[i] for i in indices[:r])\n",
        "                break\n",
        "        else:\n",
        "            return\n",
        "```\n",
        "En base a este código, podemos determinar que el algorítmo necesita un mínimo de $n!$ operaciones, siendo el peor de los casos $n*n!≈n!$, por lo que la complejidad computacional de esta función es de $O(n!)$, considerando $n$ como el número total de elementos de partida (cifras + operadores), que en nuestro caso será $n=9+4=13$.\n",
        "\n",
        "En cuanto al código para combinar ambas listas de permutaciones, en el peor de los casos tendrá una complejidad computacional de $n!*n!$ ya que es necesario recorrer ambas listas de permutaciones, cada una con un orden de $n!$ elementos. Esto nos da una complejidad computacional de $O((n!)^2)$.\n",
        "\n",
        "El resto de operaciones, como la búsqueda del mínimo o de los valores enteros entre las soluciones, tienen complejidades despreciables en comparación con $O((n!)^2)$ por lo que esa será la complejidad computacional total del algoritmo.\n",
        "\n"
      ]
    },
    {
      "attachments": {},
      "cell_type": "markdown",
      "metadata": {},
      "source": [
        "-----"
      ]
    },
    {
      "cell_type": "markdown",
      "metadata": {
        "id": "txbrmLmskReM"
      },
      "source": [
        "**Diseña un algoritmo que mejore la complejidad del algortimo por fuerza bruta. Argumenta porque crees que mejora el algoritmo por fuerza bruta**"
      ]
    },
    {
      "attachments": {},
      "cell_type": "markdown",
      "metadata": {},
      "source": [
        "El algorítmo que se propone como mejora a la fuerza bruta es un algorítmo de ramificación y poda. Estos algorítmos tienen, en general, una complejidad de $O(\\alpha^n)$ siendo $\\alpha$ el promedio de ramificaciones por nodo, es decir, una constante. Por tanto la complejidad del algorítmo será en el peor de los casos exponencial y no factorial como en el caso de la fuerza bruta."
      ]
    },
    {
      "cell_type": "code",
      "execution_count": 2,
      "metadata": {},
      "outputs": [
        {
          "name": "stdout",
          "output_type": "stream",
          "text": [
            "La expresión encontrada es: 1-6/2*4+5 = -6\n"
          ]
        }
      ],
      "source": [
        "import random\n",
        "from random import sample\n",
        "\n",
        "# random.seed(73)\n",
        "\n",
        "cifras = [str(x) for x in range(1, 10)]\n",
        "operadores = ['+', '-', '/', '*']\n",
        "\n",
        "\n",
        "def max_val(cifras=[]):\n",
        "    # Función de valor máximo para cuatro operadores y cifras consecutivas empezando en el 1\n",
        "    cifras = [int(x) for x in cifras]\n",
        "    return int(cifras[-1]*cifras[-2]+cifras[-3]-cifras[1]/cifras[0])\n",
        "\n",
        "\n",
        "def min_val(cifras=[]):\n",
        "    # Función de valor mínimo para cuatro operadores y cifras consecutivas empezando en el 1\n",
        "    cifras = [int(x) for x in cifras]\n",
        "    return int(cifras[0]+cifras[3]/cifras[1]-cifras[-1]*cifras[-2])\n",
        "\n",
        "\n",
        "def generardor_nodos(padre=None, cifras=[], operadores=[]):\n",
        "    # Añade una cifra y una operación aleatorias al nodo dado. O(1)\n",
        "\n",
        "    if padre is None:\n",
        "        return sample(operadores, 1)[0].join(sample(cifras, 2))\n",
        "    else:\n",
        "        ops_left = list(set(operadores) - set(padre) - set(cifras))\n",
        "        num_left = list(set(cifras) - set(padre) - set(operadores))\n",
        "\n",
        "        if len(ops_left) >= 1:\n",
        "            return padre + sample(ops_left, 1)[0] + (sample(num_left, 1))[0]\n",
        "        else:\n",
        "            return padre\n",
        "\n",
        "\n",
        "def cotas(nodo, cifras=[]):\n",
        "    # Calcula los límites superior e inferior de un nodo a partir de las cifras y operaciones restantes.\n",
        "    # Para ello se han elegido operadores que en principio maximizan o minimizan las operaciones. O(1)\n",
        "\n",
        "    if eval(nodo) > 0:\n",
        "        ops_max = [\"*\", \"+\"]\n",
        "        ops_min = [\"/\", \"-\"]\n",
        "    else:\n",
        "        ops_max = [\"/\", \"+\"]\n",
        "        ops_min = [\"*\", \"-\"]\n",
        "\n",
        "    num_left = list(set(cifras)-set(nodo))\n",
        "    ops_max_left = list(set(ops_max) - set(nodo))\n",
        "    ops_min_left = list(set(ops_min) - set(nodo))\n",
        "\n",
        "    if len(ops_max_left) > 0:\n",
        "        max_res = eval(nodo + ops_max_left[0] + max(num_left))\n",
        "    else:\n",
        "        max_res = eval(nodo)\n",
        "\n",
        "    if len(ops_min_left) > 0:\n",
        "        min_res = eval(nodo + ops_min_left[0] + max(num_left))\n",
        "    else:\n",
        "        min_res = eval(nodo)\n",
        "\n",
        "    return max_res, min_res\n",
        "\n",
        "\n",
        "def evaluar_nodo(nodo, descartes, objetivo, cifras =[]):\n",
        "    \"\"\"Esta función es la responsable de la poda. Se añade a la lista de descartes todo aquel nodo que:\n",
        "        1. Habiendo empleado la división y el producto no de un resultado entero.\n",
        "        2. Se aleje más allá de las cotas máximas y mínimas estimadas para las cifras y operadores restantes.\"\"\"\n",
        "    # O(1)\n",
        "    cota_max, cota_min = cotas(nodo, cifras)\n",
        "\n",
        "    if '/' in nodo and '*' in nodo:\n",
        "        if not eval(nodo).is_integer():\n",
        "            descartes.append(nodo)\n",
        "            return False, descartes\n",
        "\n",
        "    if cota_max > objetivo and cota_min < objetivo:\n",
        "        return True, descartes\n",
        "    else:\n",
        "        descartes.append(nodo)\n",
        "        return False, descartes\n",
        "\n",
        "\n",
        "def ryp(objetivo, nodo=None, descartes=[], cifras=[], operadores=[], count=0):\n",
        "    # Función de control recursiva. Es la función que en última instancia devuelve el resultado. O(2^n) (caso típico)\n",
        "    if count == 0:\n",
        "        # Nos aseguramos de que el objetivo esté entre los valores posibles de obtener\n",
        "        if objetivo not in range(min_val(cifras), max_val(cifras)+1):\n",
        "            print('El resultado no puede obtenerse')\n",
        "            return '0'\n",
        "\n",
        "    if count > 7:\n",
        "        # En este punto encontrar el resultado es difcil. Reiniciamos el nodo.\n",
        "        return ryp(objetivo, None, descartes, cifras, operadores, 0)\n",
        "\n",
        "    # Nueva generación del nodo a partir del anterior. La generación es aleatoria.\n",
        "    nodo_new = generardor_nodos(nodo, cifras, operadores)\n",
        "\n",
        "    # Si el nuevo nodo ya ha sido descartado, buscamos otro.\n",
        "    if nodo_new in descartes:\n",
        "        count += 1\n",
        "        return ryp(objetivo, nodo, descartes, cifras, operadores, count)\n",
        "\n",
        "    # Si la expresión está completa, se evalua. En caso de no satisfacer la evaluación, se itera de nuevo.\n",
        "    if len(nodo_new) == 9:\n",
        "        if eval(nodo_new) == objetivo:\n",
        "            return nodo_new\n",
        "        else:\n",
        "            descartes.append(nodo_new)\n",
        "            return ryp(objetivo, nodo, descartes, cifras, operadores, count)\n",
        "\n",
        "    # Si la expresión no está completa se evalua el nodo y se decide si continuar o iterar de nuevo.\n",
        "    continuar, descartes = evaluar_nodo(nodo_new, descartes, objetivo, cifras)\n",
        "\n",
        "    if continuar:\n",
        "        return ryp(objetivo, nodo_new, descartes, cifras, operadores, count)\n",
        "    else:\n",
        "        return ryp(objetivo, nodo, descartes, cifras, operadores, count)\n",
        "\n",
        "res = ryp(-6, None, [], cifras, operadores, 0)\n",
        "print(f'La expresión encontrada es: {res} = {int(eval(res))}')\n"
      ]
    },
    {
      "attachments": {},
      "cell_type": "markdown",
      "metadata": {},
      "source": [
        "Visto el funcionamiento del algorimo, se puede concluir que efectivamente mejora con creces el algoritmo de fuerza bruta diseñado en cuanto a complejidad computacional. Por otra parte, tal y como se ha mencionado anteriormente, el algorítmo por fuerza bruta diseñado tiene la ventaja de ofrecer todos los posibles resultados, mientras que éste algoritmo sólo nos permite encontrar uno cada vez."
      ]
    },
    {
      "attachments": {},
      "cell_type": "markdown",
      "metadata": {},
      "source": [
        "------"
      ]
    },
    {
      "attachments": {},
      "cell_type": "markdown",
      "metadata": {
        "id": "eGDB4K6uk1iN"
      },
      "source": [
        "**Calcula la complejidad del algoritmo** "
      ]
    },
    {
      "attachments": {},
      "cell_type": "markdown",
      "metadata": {},
      "source": [
        "Cómo se ha mencionado en la sección anterior, los algorítmos de ramificación y poda tienen una complejidad computacional de $O(\\alpha^n)$ siendo $\\alpha$ el promedio de ramificaciones por nodo. En este caso, el resto de funciones a las que se llama en la función recursiva no aportan mayor complejidad, por lo que podemos decir que la complejidad del algorítmo es exponencial. Cabe destacar, que al ser un algorítmo que genera nodos de forma aleatoria, hay cierta variabilidad en cuanto al tiempo de ejecución."
      ]
    },
    {
      "attachments": {},
      "cell_type": "markdown",
      "metadata": {},
      "source": [
        "----------------------"
      ]
    },
    {
      "attachments": {},
      "cell_type": "markdown",
      "metadata": {
        "id": "3M6QjTsSkmYe"
      },
      "source": [
        "**Según el problema (y tenga sentido), diseña un juego de datos de entrada aleatorios**"
      ]
    },
    {
      "attachments": {},
      "cell_type": "markdown",
      "metadata": {
        "id": "Jc3_OlyNkvjZ"
      },
      "source": [
        "Para el problema que nos ocupa, modificar los operadores requería modificar también el algorítmo, sin embargo, en cuanto a las cifras la única condición es que sean enteras, consecutivas, y que empiecen en 1. En este sentido, podríamos diseñar un juego de datos nuevo con una mayor cantidad de cifras y comprobar si el algorítmo es capaz de resolverlo."
      ]
    },
    {
      "cell_type": "code",
      "execution_count": 12,
      "metadata": {
        "id": "sJ-N2etjkyWc"
      },
      "outputs": [
        {
          "name": "stdout",
          "output_type": "stream",
          "text": [
            "La expresión encontrada es: 6*3/1-5+2 = 15\n"
          ]
        }
      ],
      "source": [
        "cifras = [str(x) for x in range(1, 7)]\n",
        "operadores = ['+', '-', '/', '*']\n",
        "\n",
        "res = ryp(15, cifras=cifras, operadores=operadores)\n",
        "print(f'La expresión encontrada es: {res} = {int(eval(res))}')"
      ]
    },
    {
      "attachments": {},
      "cell_type": "markdown",
      "metadata": {},
      "source": [
        "En general, el algorítmo no funciona para sets de números mayores a 9, ya que la longitud del string resultante es mayor de lo esperado, pero sí funciona para sets de números entre 5 y 9."
      ]
    },
    {
      "attachments": {},
      "cell_type": "markdown",
      "metadata": {},
      "source": [
        "------------"
      ]
    },
    {
      "attachments": {},
      "cell_type": "markdown",
      "metadata": {
        "id": "eTFWUJQrtGcv"
      },
      "source": [
        "**Referencias**"
      ]
    },
    {
      "attachments": {},
      "cell_type": "markdown",
      "metadata": {
        "id": "YKQ_mRBttWsP"
      },
      "source": [
        "En general, se han complementado los apuntes de clase con búsquedas en la web. Tanto en foros como en la documentación de las distintas librerias empleadas para realizar el trabajo."
      ]
    },
    {
      "attachments": {},
      "cell_type": "markdown",
      "metadata": {},
      "source": [
        "----------"
      ]
    },
    {
      "attachments": {},
      "cell_type": "markdown",
      "metadata": {
        "id": "kAkDPUyRtYyH"
      },
      "source": [
        "**Describe brevemente las lineas de como crees que es posible avanzar en el estudio del problema. Ten en cuenta incluso posibles variaciones del problema y/o variaciones al alza del tamaño**"
      ]
    },
    {
      "attachments": {},
      "cell_type": "markdown",
      "metadata": {
        "id": "IE0uZmo-tZu-"
      },
      "source": [
        "Avanzar en el estudio del problema implicaría generalizar y aportar robustez al algoritmo. Hay varias fallas que el algoritmo diseñado muestra y que no han podido corregirse, como por ejemplo errores inesperados debido a la naturaleza aleatoria del mismo, o las propias limitaciones encontradas cuando se ha tratado de generalizar.\n",
        "\n",
        "Otro punto interesante sería añadir operaciones al mismo, como pueden ser las potencias, aunque es posible que esto eliminase la garantía de obtener todos los enteros posibles entre un máximo y un mínimo."
      ]
    }
  ],
  "metadata": {
    "colab": {
      "provenance": []
    },
    "kernelspec": {
      "display_name": "Python 3",
      "name": "python3"
    },
    "language_info": {
      "codemirror_mode": {
        "name": "ipython",
        "version": 3
      },
      "file_extension": ".py",
      "mimetype": "text/x-python",
      "name": "python",
      "nbconvert_exporter": "python",
      "pygments_lexer": "ipython3",
      "version": "3.9.13"
    }
  },
  "nbformat": 4,
  "nbformat_minor": 0
}
