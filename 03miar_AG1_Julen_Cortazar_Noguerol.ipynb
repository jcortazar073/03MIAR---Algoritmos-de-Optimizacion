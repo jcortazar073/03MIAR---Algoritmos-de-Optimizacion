{
  "cells": [
    {
      "cell_type": "markdown",
      "metadata": {
        "colab_type": "text",
        "id": "view-in-github"
      },
      "source": [
        "<a href=\"https://colab.research.google.com/github/jcortazar073/03MIAR---Algoritmos-de-Optimizacion/blob/main/03miar_AG1.ipynb\" target=\"_parent\"><img src=\"https://colab.research.google.com/assets/colab-badge.svg\" alt=\"Open In Colab\"/></a>"
      ]
    },
    {
      "cell_type": "markdown",
      "metadata": {
        "id": "KtScRohXPsGS"
      },
      "source": [
        "Nombre: Julen Cortázar Noguerol <br>\n",
        "https://colab.research.google.com/drive/1ntFihjCcqFQqzP7LNi1qW44oalZs0Ins?usp=sharing <br>\n",
        "https://github.com/jcortazar073/03MIAR---Algoritmos-de-Optimizacion <br>\n",
        "# Algoritmos de Optimización: Actividad Guiada 1"
      ]
    },
    {
      "cell_type": "markdown",
      "metadata": {
        "id": "fmN7KVbFUhP9"
      },
      "source": [
        "## Actividad 1: Torre de Hanoi\n",
        "\n",
        "La Torre de Hanoi consiste en un juego con tres postes. Al inicio, uno de los postes tiene una torre de discos de radio decreciente. El objetivo del juego es mover la torre a uno de los otros postes colocando siempre los discos en orden decreciente (no se puede poner un disco más grande encima de uno pequeño).\n",
        "\n",
        "Para la resolución de esta actividad se va a emplear un algoritmo del tipo '**Divide y vencerás**'. Definimos una función recursiva llamada `Torres_Hanoi` con parametros de entrada: el número de fichas `N`, el poste inicial `desde` y el poste final `hasta`."
      ]
    },
    {
      "cell_type": "code",
      "execution_count": 1,
      "metadata": {
        "colab": {
          "base_uri": "https://localhost:8080/"
        },
        "id": "SSSRnIACQdbc",
        "outputId": "abfdab42-9245-4602-dbf5-877a7bd6d765"
      },
      "outputs": [
        {
          "name": "stdout",
          "output_type": "stream",
          "text": [
            "Lleva la ficha desde el poste 1 hasta el poste 2.\n",
            "Lleva la ficha desde el poste 1 hasta el poste 3.\n",
            "Lleva la ficha desde el poste 2 hasta el poste 3.\n"
          ]
        }
      ],
      "source": [
        "def Torres_Hanoi(N, desde, hasta):\n",
        "  # N = nº de fichas\n",
        "  # desde = ID poste inicial\n",
        "  # hasta = ID poste final\n",
        "\n",
        "  if N == 1 :\n",
        "    print(f\"Lleva la ficha desde el poste {desde} hasta el poste {hasta}.\")\n",
        "  else:\n",
        "    Torres_Hanoi(N-1, desde, 6 - desde - hasta)\n",
        "    print(f\"Lleva la ficha desde el poste {desde} hasta el poste {hasta}.\")\n",
        "    Torres_Hanoi(N-1,6 - desde - hasta, hasta)\n",
        "\n",
        "Torres_Hanoi(2,1,3)\n"
      ]
    },
    {
      "cell_type": "markdown",
      "metadata": {
        "id": "1M7KUYEzbI5D"
      },
      "source": [
        "Cabe preguntarse cuántas operaciones se realizan en la función que hemos diseñado. Para ello, teniendo en cuenta que es una función recursiva:\n",
        "$$T(1) = 1$$\n",
        "$$T(n)=1+2·T(n-1)=1+2[1+2·T(n-2)]=1+2+2^2+...+2^{n-1}T(1)$$\n",
        "aplicando la suma de una progresión geométrica:\n",
        "$$\\sum_{k=0}^nar^k=a·\\frac{r^{n+1}-1}{r-1}$$\n",
        "se obtiene:\n",
        "$$T(n)=2^n-1$$\n"
      ]
    },
    {
      "cell_type": "markdown",
      "metadata": {
        "id": "ZQ15455Pe72U"
      },
      "source": [
        "---"
      ]
    },
    {
      "cell_type": "markdown",
      "metadata": {
        "id": "Wh08Do86fBX3"
      },
      "source": [
        "## Actividad 2: Devolución del cambio\n",
        "\n",
        "En esta actividad se plantea el problema de elegir las monedas necesarias para completar el cambio deseado con el mínimo número de monedas posible. En nuestro caso vamos a suponer un sistema monetario con monedas de valor [25, 10, 5, 1].\n",
        "\n",
        "Para la resolución de este problema utilizamos un **Algoritmo Voraz (Greedy Algorithm)** siguiendo los siguientes pasos:\n",
        "\n",
        "* Definimos la función `cambio_monedas` con los parámetros `cantidad` para la cantidad a calcular y `sistema` para el sistema monetario.\n",
        "* Inicializamos la lista `solucion` a cero con tantos valores como tipos de monedas. Cada entero de la lista representa la cantidad de monedas de ese tipo necesarias.\n",
        "* Inicializamos la variable `valor_acumulado` para obtener el valor acumulado total.\n",
        "* Recorremos todas las monedas en orden decreciente en valor. \n",
        "\n",
        "\n",
        "\n"
      ]
    },
    {
      "cell_type": "code",
      "execution_count": 2,
      "metadata": {
        "colab": {
          "base_uri": "https://localhost:8080/"
        },
        "id": "lXIagXCBhSiI",
        "outputId": "691806c0-b6c4-409f-d60f-08d2f1bf025d"
      },
      "outputs": [
        {
          "data": {
            "text/plain": [
              "{25: 1, 10: 1, 5: 0, 1: 4}"
            ]
          },
          "execution_count": 2,
          "metadata": {},
          "output_type": "execute_result"
        }
      ],
      "source": [
        "def cambio_monedas(cantidad, sistema):\n",
        "  # cantidad = cantidad total a calcular\n",
        "  # sistema = lista con los valores de las monedas disponibles\n",
        "\n",
        "  solucion = {}\n",
        "  for val in sistema:\n",
        "    monedas = cantidad // val\n",
        "    solucion[val] = monedas\n",
        "    cantidad -= monedas * val\n",
        "    if cantidad == 0:\n",
        "      return solucion\n",
        "\n",
        "cambio_monedas(39, [25, 10, 5, 1])"
      ]
    },
    {
      "cell_type": "markdown",
      "metadata": {
        "id": "3JiUZx9hjXYH"
      },
      "source": [
        "Cabe destacar que los algoritmos voraces no garantizan la solución óptima en el sentido de el mínimo de monedas, por lo que en otro sistema monetario, la solución puede no ser la adecuada. Por ejemplo:"
      ]
    },
    {
      "cell_type": "code",
      "execution_count": 3,
      "metadata": {
        "colab": {
          "base_uri": "https://localhost:8080/"
        },
        "id": "3SZLsVwEj0Q8",
        "outputId": "b66e43de-53bc-4a39-9c85-a776195ed67f"
      },
      "outputs": [
        {
          "data": {
            "text/plain": [
              "{11: 1, 5: 0, 1: 4}"
            ]
          },
          "execution_count": 3,
          "metadata": {},
          "output_type": "execute_result"
        }
      ],
      "source": [
        "cambio_monedas(15, [11, 5, 1])"
      ]
    },
    {
      "cell_type": "markdown",
      "metadata": {
        "id": "WvpJICGtkMdh"
      },
      "source": [
        "En este caso, el algoritmo devuelve una solución con 5 monedas, mientras que 3 monedas de 5 lo habría sido la solución óptima."
      ]
    },
    {
      "cell_type": "markdown",
      "metadata": {
        "id": "J9nM388JlItA"
      },
      "source": [
        "---"
      ]
    },
    {
      "cell_type": "markdown",
      "metadata": {
        "id": "Kd7hZLRFlLHO"
      },
      "source": [
        "## Actividad 3: El problema de las 4 reinas"
      ]
    },
    {
      "cell_type": "code",
      "execution_count": null,
      "metadata": {
        "id": "qWhtNZ44kjfL"
      },
      "outputs": [],
      "source": []
    }
  ],
  "metadata": {
    "colab": {
      "authorship_tag": "ABX9TyPnaTlYI6Bi95NNekz+0Cx2",
      "include_colab_link": true,
      "provenance": []
    },
    "kernelspec": {
      "display_name": "Python 3",
      "name": "python3"
    },
    "language_info": {
      "codemirror_mode": {
        "name": "ipython",
        "version": 3
      },
      "file_extension": ".py",
      "mimetype": "text/x-python",
      "name": "python",
      "nbconvert_exporter": "python",
      "pygments_lexer": "ipython3",
      "version": "3.9.13"
    }
  },
  "nbformat": 4,
  "nbformat_minor": 0
}
